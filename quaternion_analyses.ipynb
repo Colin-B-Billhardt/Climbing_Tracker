{
 "cells": [
  {
   "cell_type": "code",
   "execution_count": null,
   "id": "1c3944b6",
   "metadata": {},
   "outputs": [],
   "source": [
    "\"\"\"Used the following website to help with reading CSV files: \n",
    "https://www.geeksforgeeks.org/python/how-to-read-from-a-file-in-python/\"\"\"\n",
    "\n",
    "import csv \n",
    "\n",
    "#getting quaternino data from first IMU sensor\n",
    "\n",
    "with open(\"Quaternions_sensor_1_result4.csv\", newline='') as csvfile:\n",
    "\n",
    "    csvreader = csv.reader(csvfile)\n",
    "    sensor1 = []\n",
    "    for row in csvreader:\n",
    "        sensor1.append(row)\n",
    "\n",
    "#only getting from the third row onwards (first rows are header, serial number etc.)    \n",
    "sensor_1_clean_data = sensor1[3:]\n",
    "print(sensor_1_clean_data)"
   ]
  },
  {
   "cell_type": "code",
   "execution_count": null,
   "id": "d236a40f",
   "metadata": {},
   "outputs": [],
   "source": [
    "#getting quaternion data from second IMU sensor\n",
    "\n",
    "with open(\"Quaternions_sensor_2_result4.csv\", newline='') as csvfile:\n",
    "\n",
    "    csvreader = csv.reader(csvfile, delimiter='\\t')\n",
    "    sensor2 = []\n",
    "    for row in csvreader:\n",
    "        sensor2.append(row)\n",
    "        \n",
    "sensor_2_clean_data = sensor2[3:]\n",
    "print(sensor_2_clean_data)"
   ]
  },
  {
   "cell_type": "code",
   "execution_count": null,
   "id": "e0d72c59",
   "metadata": {},
   "outputs": [],
   "source": [
    "import numpy as np\n",
    "\n",
    "#function for multiplying two quaternions\n",
    "def multiply_quaternions(q1,q2):\n",
    "    w1,x1,y1,z1 = q1\n",
    "    w2,x2,y2,z2 = q2\n",
    "\n",
    "    return[\n",
    "        w1 * w2 - x1 * x2 - y1 * y2 - z1 * z2,\n",
    "        w1 * w2 + x1 * w2 + y1 * z2 - z1 * y2,\n",
    "        w1 * y2 - x1 * z2 + y1 * w2 + z1 * x2,\n",
    "        w1 * z2 + x1 * y2 - y1 * x2 + z1 * w2\n",
    "    ]\n",
    "\n",
    "def quaternion_to_angle(sensor_array_1, sensor_array_2):\n",
    "\n",
    "    angles_from_quaternions = []\n",
    "    counter = 0\n",
    "\n",
    "    for i in sensor_array_1:\n",
    "        w1,x1,y1,z1 = float(i[1]), float(i[2]),float(i[3]), float(i[4])\n",
    "        q1_conjugate = [w1, -x1, -y1, -z1]\n",
    "        angle_calculated = False\n",
    "        \n",
    "        while angle_calculated == False and counter <len(sensor_array_2):\n",
    "            k = sensor_array_2[counter]\n",
    "            w2,x2,y2,z2 = float(k[1]), float(k[2]), float(k[3]), float(k[4])\n",
    "            q2 = [w2, x2,y2,z2]\n",
    "\n",
    "            #q_relative is the conjugate * q2\n",
    "            q_relative = multiply_quaternions(q1_conjugate, q2) \n",
    "            \n",
    "            #calculating angle from q_relative\n",
    "            theta = 2 * np.arccos(q_relative[0])\n",
    "            theta_deg = theta * (180/np.pi)\n",
    "\n",
    "            angles_from_quaternions.append([theta_deg] + [k[0]])\n",
    "            counter+=1\n",
    "            angle_calculated = True\n",
    "    \n",
    "    \n",
    "    return angles_from_quaternions\n"
   ]
  },
  {
   "cell_type": "code",
   "execution_count": null,
   "id": "794b2ed3",
   "metadata": {},
   "outputs": [],
   "source": [
    "angles_with_timestamps = quaternion_to_angle(sensor_1_clean_data, sensor_2_clean_data)\n",
    "\n",
    "angles = []\n",
    "timestamps = []\n",
    "\n",
    "for i in angles_with_timestamps:\n",
    "    angles.append(i[0])\n",
    "    timestamps.append(i[1])"
   ]
  },
  {
   "cell_type": "code",
   "execution_count": null,
   "id": "e526f9e5",
   "metadata": {},
   "outputs": [],
   "source": [
    "#Retrieving angles from CV results\n",
    "import datetime\n",
    "\n",
    "with open(\"Computer_vision_result4.csv\", newline='') as csvfile:\n",
    "\n",
    "    csvreader = csv.reader(csvfile)\n",
    "    computer_vision_results = []\n",
    "    for row in csvreader:\n",
    "        try:\n",
    "            #only adding the angles from CV results that are inbetween the time stamps of the quaternion data\n",
    "            if datetime.datetime.strptime(row[0], '%Y-%m-%d %H:%M:%S.%f') > datetime.datetime.strptime(timestamps[0], '%m/%d/%Y %H:%M:%S.%f') and datetime.datetime.strptime(row[0], '%Y-%m-%d %H:%M:%S.%f') < datetime.datetime.strptime(timestamps[-1], '%m/%d/%Y %H:%M:%S.%f'):\n",
    "                computer_vision_results.append([row[-3]] + [row[0]]) #the third last column is angle, first column is timestamp\n",
    "            else:\n",
    "                pass\n",
    "        except:\n",
    "            pass"
   ]
  },
  {
   "cell_type": "code",
   "execution_count": null,
   "id": "55392628",
   "metadata": {},
   "outputs": [],
   "source": [
    "CV_angles = []\n",
    "CV_time_stamps = []\n",
    "for i in computer_vision_results:\n",
    "    CV_angles.append(float(i[0]))\n",
    "    CV_time_stamps.append(i[1])"
   ]
  },
  {
   "cell_type": "code",
   "execution_count": null,
   "id": "d10f7572",
   "metadata": {},
   "outputs": [],
   "source": [
    "#Graphing results\n",
    "\n",
    "import matplotlib.pyplot as plt\n",
    "\n",
    "plt.plot(timestamps, angles)\n",
    "plt.xlabel(\"time stamps\")\n",
    "\n",
    "#too many xlables, reduced to 1 in 10\n",
    "x_index = [i for i in range(len(timestamps)) if i % 5 == 0]\n",
    "x_labels = [timestamps[i] for i in x_index]\n",
    "plt.xticks(x_index, x_labels, rotation=90)\n",
    "\n",
    "plt.ylabel(\"Elbow Angle\")\n",
    "plt.show()\n",
    "\n",
    "#add code to plot CV angle results next to quaternion angle results"
   ]
  },
  {
   "cell_type": "code",
   "execution_count": null,
   "id": "2fd7b493",
   "metadata": {},
   "outputs": [],
   "source": [
    "plt.plot(CV_time_stamps, CV_angles)\n",
    "plt.xlabel(\"time stamps\")\n",
    "\n",
    "x_index = [i for i in range(len(CV_time_stamps)) if i % 10 == 0]\n",
    "x_labels = [CV_time_stamps[i] for i in x_index]\n",
    "plt.xticks(x_index, x_labels, rotation=90)\n",
    "\n",
    "\n",
    "plt.ylabel(\"Elbow Angle\")\n",
    "plt.show()"
   ]
  }
 ],
 "metadata": {
  "kernelspec": {
   "display_name": "Python 3",
   "language": "python",
   "name": "python3"
  },
  "language_info": {
   "codemirror_mode": {
    "name": "ipython",
    "version": 3
   },
   "file_extension": ".py",
   "mimetype": "text/x-python",
   "name": "python",
   "nbconvert_exporter": "python",
   "pygments_lexer": "ipython3",
   "version": "3.9.6"
  }
 },
 "nbformat": 4,
 "nbformat_minor": 5
}
